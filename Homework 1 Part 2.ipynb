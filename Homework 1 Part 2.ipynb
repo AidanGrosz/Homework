{
 "cells": [
  {
   "cell_type": "markdown",
   "metadata": {},
   "source": [
    "# Homework 1 Part 2\n",
    "\n",
    "**Due: Monday, September 16, 11:59 PM**\n",
    "\n",
    "This is an individual assignment."
   ]
  },
  {
   "cell_type": "markdown",
   "metadata": {},
   "source": [
    "## Description\n",
    "\n",
    "Create or edit this Jupyter Notebook to answer the questions below. Use simulations to answer these questions. An analytical solution can be useful to check if your simulation is correct but analytical solutions alone will not be accepted as a solution to a problem."
   ]
  },
  {
   "cell_type": "code",
   "execution_count": 3,
   "metadata": {},
   "outputs": [],
   "source": [
    "import random\n",
    "import numpy.random as npr\n",
    "import numpy as np\n",
    "\n",
    "import matplotlib.pyplot as plt\n",
    "%matplotlib inline\n",
    "plt.style.use('ggplot')"
   ]
  },
  {
   "cell_type": "markdown",
   "metadata": {},
   "source": [
    "## Problem 7\n",
    "\n",
    "Consider repeatedly rolling a fair 6-sided die.\n",
    "\n",
    "1. Create a simulation to compute the probability that the top face will be 6 at least once on 3 rolls of the die?\n",
    "2. Create a simulation to compute the probability that the top face will be 6 at least once on 6 rolls of the die?\n",
    "3. Create a simulation to compute how many rolls of the die would you have to do to be 90% confident that you would see at least one 6?\n",
    "4. Using the formula you have computed in problem 2 part 4, make a Python function that takes in the target value $p$ and outputs the required number of rolls of an integer. \n",
    "    1. Find the values for $p=0.95$ and $p=0.99$. \n",
    "    2. Use your simulation to verify that the number of rolls you specified is sufficient to achieve $p\\geq 0.95$."
   ]
  },
  {
   "cell_type": "code",
   "execution_count": 4,
   "metadata": {},
   "outputs": [
    {
     "name": "stdout",
     "output_type": "stream",
     "text": [
      "[[1 5 2]\n",
      " [6 1 1]\n",
      " [2 1 4]\n",
      " ...\n",
      " [3 6 1]\n",
      " [4 1 1]\n",
      " [6 2 2]]\n",
      "42201\n",
      "Probailty of getting a 6 at least once when rolling a dice three times: 0.42201\n"
     ]
    }
   ],
   "source": [
    "#Problem 7:\n",
    "#1.\n",
    "num_Sims = 100000\n",
    "count = 0;\n",
    "dice = npr.randint(1,7,size=(num_Sims,3))\n",
    "event = np.sum(np.any(dice==6,axis=1))\n",
    "print(dice)\n",
    "print(event)\n",
    "print('Probailty of getting a 6 at least once when rolling a dice three times:', event/num_Sims)\n"
   ]
  },
  {
   "cell_type": "code",
   "execution_count": 51,
   "metadata": {},
   "outputs": [
    {
     "name": "stdout",
     "output_type": "stream",
     "text": [
      "[[5 4 2 ... 6 5 3]\n",
      " [2 5 2 ... 4 6 4]\n",
      " [2 5 3 ... 4 2 4]\n",
      " ...\n",
      " [4 4 4 ... 2 4 2]\n",
      " [5 6 3 ... 4 5 1]\n",
      " [2 4 4 ... 1 4 6]]\n",
      "9998849\n",
      "Probailty of getting a 6 at least once when rolling a dice 6 times: 0.9998849\n",
      "1151\n"
     ]
    }
   ],
   "source": [
    "#Problem 7:\n",
    "#2.\n",
    "num_Sims = 10000000\n",
    "count = 0;\n",
    "dice = npr.randint(1,7,size=(num_Sims,6))\n",
    "event = np.sum(np.any(dice==6,axis=1))\n",
    "print(dice)\n",
    "print(event)\n",
    "print('Probailty of getting a 6 at least once when rolling a dice 6 times:', event/num_Sims)\n"
   ]
  },
  {
   "cell_type": "code",
   "execution_count": 74,
   "metadata": {},
   "outputs": [
    {
     "name": "stdout",
     "output_type": "stream",
     "text": [
      "Heck Yes!\n",
      "0.991264\n",
      "You would need 26 to get a 90% chance of getting 1 6 in at least one of those roles!\n"
     ]
    }
   ],
   "source": [
    "#3.\n",
    "num_Sims = 1000000\n",
    "count = 0;\n",
    "roles = 0;\n",
    "for i in range(27):\n",
    "    dice = npr.randint(1,7,size=(num_Sims,i))\n",
    "    event = np.sum(np.any(dice==6,axis=1))\n",
    "    if (event/num_Sims) >=0.99:\n",
    "        print('Heck Yes!')\n",
    "        roles = i\n",
    "        break\n",
    "\n",
    "\n",
    "print(event/num_Sims)\n",
    "print('You would need' ,roles, 'to get a 90% chance of getting 1 6 in at least one of those roles!')\n"
   ]
  },
  {
   "cell_type": "code",
   "execution_count": 78,
   "metadata": {},
   "outputs": [
    {
     "name": "stdout",
     "output_type": "stream",
     "text": [
      "76\n"
     ]
    }
   ],
   "source": [
    "#4\n",
    "import math\n",
    "\n",
    "def rolemadice(probabilty):\n",
    "    turns = round((math.log(1-probabilty))/math.log(5/6))\n",
    "    print(turns)\n",
    "\n",
    "rolemadice(.999999)"
   ]
  },
  {
   "cell_type": "markdown",
   "metadata": {},
   "source": [
    "\n",
    "a. For a p of .95 and above you would need at the least 16 roles, for a p of 0.99 you would need at least 25 roles. \n",
    "\n",
    "b. My simulation and formula are within 1 roll of each other!"
   ]
  },
  {
   "cell_type": "markdown",
   "metadata": {},
   "source": [
    "## Problem 8\n",
    "\n",
    "Create a simulation function where you will roll a fair 6-sided die 20 times and count the number of times the face $x$ comes up on the top face of the die. \n",
    "\n",
    "* In your simulation, create a list that will store the number of times it came up $x$ on the top face of the die.\n",
    "* Create a plot of unique counts vs their relative frequency\n",
    "\n",
    "Using your simulation function, run it for:\n",
    "\n",
    "1. $x=3$\n",
    "\n",
    "2. $x=[5,6]$, that is, probability of observing a 5 or a 6 on the top face.\n",
    "\n",
    "3. $x=[1,2,3]$, that is, probability of observing a 1, 2 or 3 on the top face.\n",
    "\n",
    "For both cases, comment the plotting results. For a *sufficient* amount of simulations, does it behave as *expected*?"
   ]
  },
  {
   "cell_type": "code",
   "execution_count": 179,
   "metadata": {},
   "outputs": [
    {
     "data": {
      "text/plain": [
       "([<matplotlib.axis.XTick at 0x1bf71ef3e60>,\n",
       "  <matplotlib.axis.XTick at 0x1bf71e1fb00>,\n",
       "  <matplotlib.axis.XTick at 0x1bf71fdec60>,\n",
       "  <matplotlib.axis.XTick at 0x1bf72007440>,\n",
       "  <matplotlib.axis.XTick at 0x1bf775205f0>,\n",
       "  <matplotlib.axis.XTick at 0x1bf77520f20>,\n",
       "  <matplotlib.axis.XTick at 0x1bf77521880>,\n",
       "  <matplotlib.axis.XTick at 0x1bf77522210>,\n",
       "  <matplotlib.axis.XTick at 0x1bf77522ba0>,\n",
       "  <matplotlib.axis.XTick at 0x1bf77521220>,\n",
       "  <matplotlib.axis.XTick at 0x1bf77523230>,\n",
       "  <matplotlib.axis.XTick at 0x1bf775239e0>,\n",
       "  <matplotlib.axis.XTick at 0x1bf77538320>,\n",
       "  <matplotlib.axis.XTick at 0x1bf77538cb0>],\n",
       " [Text(0, 0, '0'),\n",
       "  Text(1, 0, '1'),\n",
       "  Text(2, 0, '2'),\n",
       "  Text(3, 0, '3'),\n",
       "  Text(4, 0, '4'),\n",
       "  Text(5, 0, '5'),\n",
       "  Text(6, 0, '6'),\n",
       "  Text(7, 0, '7'),\n",
       "  Text(8, 0, '8'),\n",
       "  Text(9, 0, '9'),\n",
       "  Text(10, 0, '10'),\n",
       "  Text(11, 0, '11'),\n",
       "  Text(12, 0, '12'),\n",
       "  Text(13, 0, '13')])"
      ]
     },
     "execution_count": 179,
     "metadata": {},
     "output_type": "execute_result"
    },
    {
     "data": {
      "image/png": "[encoded data removed]",
      "text/plain": [
       "<Figure size 640x480 with 1 Axes>"
      ]
     },
     "metadata": {},
     "output_type": "display_data"
    }
   ],
   "source": [
    "num_Sims = 1000000\n",
    "totalnumbers = 20*num_Sims\n",
    "\n",
    "dice = npr.randint(1,7,size=(num_Sims,20))\n",
    "event = (np.sum(dice==3,axis=1))\n",
    "\n",
    "\n",
    "how_many_3,counts = np.unique(event,return_counts=True)\n",
    "tot_counts = np.sum(counts)\n",
    "\n",
    "\n",
    "relative_frequency = (counts/tot_counts)\n",
    "\n",
    "plt.bar(how_many_3,relative_frequency)\n",
    "plt.ylabel('Relative Frequency')\n",
    "plt.title('Distribution of Face Occurrences in 20 Rolls of a Fair Die (Face x=3)')\n",
    "plt.xticks(how_many_3)"
   ]
  },
  {
   "cell_type": "code",
   "execution_count": 197,
   "metadata": {},
   "outputs": [
    {
     "data": {
      "text/plain": [
       "([<matplotlib.axis.XTick at 0x1bf72af25d0>,\n",
       "  <matplotlib.axis.XTick at 0x1bf72af20f0>,\n",
       "  <matplotlib.axis.XTick at 0x1bf726d67e0>,\n",
       "  <matplotlib.axis.XTick at 0x1bf72b46780>,\n",
       "  <matplotlib.axis.XTick at 0x1bf72b47080>,\n",
       "  <matplotlib.axis.XTick at 0x1bf72b479e0>,\n",
       "  <matplotlib.axis.XTick at 0x1bf72b6c350>,\n",
       "  <matplotlib.axis.XTick at 0x1bf72b47350>,\n",
       "  <matplotlib.axis.XTick at 0x1bf72b6cb00>,\n",
       "  <matplotlib.axis.XTick at 0x1bf72b6d460>,\n",
       "  <matplotlib.axis.XTick at 0x1bf72b6dd00>,\n",
       "  <matplotlib.axis.XTick at 0x1bf72b6e630>,\n",
       "  <matplotlib.axis.XTick at 0x1bf77551280>,\n",
       "  <matplotlib.axis.XTick at 0x1bf72b6ed50>,\n",
       "  <matplotlib.axis.XTick at 0x1bf72b6f6b0>,\n",
       "  <matplotlib.axis.XTick at 0x1bf72b6ffb0>,\n",
       "  <matplotlib.axis.XTick at 0x1bf72b888c0>,\n",
       "  <matplotlib.axis.XTick at 0x1bf72b89220>],\n",
       " [Text(0, 0, '0'),\n",
       "  Text(1, 0, '1'),\n",
       "  Text(2, 0, '2'),\n",
       "  Text(3, 0, '3'),\n",
       "  Text(4, 0, '4'),\n",
       "  Text(5, 0, '5'),\n",
       "  Text(6, 0, '6'),\n",
       "  Text(7, 0, '7'),\n",
       "  Text(8, 0, '8'),\n",
       "  Text(9, 0, '9'),\n",
       "  Text(10, 0, '10'),\n",
       "  Text(11, 0, '11'),\n",
       "  Text(12, 0, '12'),\n",
       "  Text(13, 0, '13'),\n",
       "  Text(14, 0, '14'),\n",
       "  Text(15, 0, '15'),\n",
       "  Text(16, 0, '16'),\n",
       "  Text(17, 0, '17')])"
      ]
     },
     "execution_count": 197,
     "metadata": {},
     "output_type": "execute_result"
    },
    {
     "data": {
      "image/png": "[encoded data removed]",
      "text/plain": [
       "<Figure size 640x480 with 1 Axes>"
      ]
     },
     "metadata": {},
     "output_type": "display_data"
    }
   ],
   "source": [
    "#2.\n",
    "num_Sims = 1000000\n",
    "\n",
    "dice = npr.randint(1,7,size=(num_Sims,20))\n",
    "event = np.sum((dice == 5) | (dice == 6), axis=1)\n",
    "\n",
    "\n",
    "how_many_5OR6,counts = np.unique(event,return_counts=True)\n",
    "tot_counts = np.sum(counts)\n",
    "\n",
    "\n",
    "relative_frequency = (counts/tot_counts)\n",
    "\n",
    "plt.bar(how_many_5OR6,relative_frequency)\n",
    "plt.ylabel('Relative Frequency')\n",
    "plt.title('Distribution of Face Occurrences in 20 Rolls of a Fair Die (Face x=5 or a 6)')\n",
    "plt.xticks(how_many_5OR6)\n"
   ]
  },
  {
   "cell_type": "code",
   "execution_count": 199,
   "metadata": {},
   "outputs": [
    {
     "data": {
      "text/plain": [
       "([<matplotlib.axis.XTick at 0x1bf72b9d8e0>,\n",
       "  <matplotlib.axis.XTick at 0x1bf71ff3e60>,\n",
       "  <matplotlib.axis.XTick at 0x1bf71f63260>,\n",
       "  <matplotlib.axis.XTick at 0x1bf729dc620>,\n",
       "  <matplotlib.axis.XTick at 0x1bf729dcf50>,\n",
       "  <matplotlib.axis.XTick at 0x1bf729dd880>,\n",
       "  <matplotlib.axis.XTick at 0x1bf729dc890>,\n",
       "  <matplotlib.axis.XTick at 0x1bf729de360>,\n",
       "  <matplotlib.axis.XTick at 0x1bf729dec60>,\n",
       "  <matplotlib.axis.XTick at 0x1bf729df5c0>,\n",
       "  <matplotlib.axis.XTick at 0x1bf729dfef0>,\n",
       "  <matplotlib.axis.XTick at 0x1bf729df2c0>,\n",
       "  <matplotlib.axis.XTick at 0x1bf729f8590>,\n",
       "  <matplotlib.axis.XTick at 0x1bf729f8ec0>,\n",
       "  <matplotlib.axis.XTick at 0x1bf729f97c0>,\n",
       "  <matplotlib.axis.XTick at 0x1bf729fa0c0>,\n",
       "  <matplotlib.axis.XTick at 0x1bf72b47710>,\n",
       "  <matplotlib.axis.XTick at 0x1bf729f9250>,\n",
       "  <matplotlib.axis.XTick at 0x1bf729fb0b0>,\n",
       "  <matplotlib.axis.XTick at 0x1bf729fba40>,\n",
       "  <matplotlib.axis.XTick at 0x1bf72a14470>],\n",
       " [Text(0, 0, '0'),\n",
       "  Text(1, 0, '1'),\n",
       "  Text(2, 0, '2'),\n",
       "  Text(3, 0, '3'),\n",
       "  Text(4, 0, '4'),\n",
       "  Text(5, 0, '5'),\n",
       "  Text(6, 0, '6'),\n",
       "  Text(7, 0, '7'),\n",
       "  Text(8, 0, '8'),\n",
       "  Text(9, 0, '9'),\n",
       "  Text(10, 0, '10'),\n",
       "  Text(11, 0, '11'),\n",
       "  Text(12, 0, '12'),\n",
       "  Text(13, 0, '13'),\n",
       "  Text(14, 0, '14'),\n",
       "  Text(15, 0, '15'),\n",
       "  Text(16, 0, '16'),\n",
       "  Text(17, 0, '17'),\n",
       "  Text(18, 0, '18'),\n",
       "  Text(19, 0, '19'),\n",
       "  Text(20, 0, '20')])"
      ]
     },
     "execution_count": 199,
     "metadata": {},
     "output_type": "execute_result"
    },
    {
     "data": {
      "image/png": "[encoded data removed]",
      "text/plain": [
       "<Figure size 640x480 with 1 Axes>"
      ]
     },
     "metadata": {},
     "output_type": "display_data"
    }
   ],
   "source": [
    "#3.\n",
    "num_Sims = 1000000\n",
    "\n",
    "dice = npr.randint(1,7,size=(num_Sims,20))\n",
    "event = np.sum((dice == 1) | (dice == 2) | (dice==3), axis=1)\n",
    "\n",
    "\n",
    "how_many_num,counts = np.unique(event,return_counts=True)\n",
    "tot_counts = np.sum(counts)\n",
    "\n",
    "\n",
    "relative_frequency = (counts/tot_counts)\n",
    "\n",
    "plt.bar(how_many_num,relative_frequency)\n",
    "plt.ylabel('Relative Frequency')\n",
    "plt.title('Distribution of Face Occurrences in 20 Rolls of a Fair Die (Face x=1 or 2 or 3)')\n",
    "plt.xticks(how_many_num)\n"
   ]
  },
  {
   "cell_type": "markdown",
   "metadata": {},
   "source": [
    "Yes each of these does do as expected, this is because it resembles a binomal distribution shifted by how many certain numbers you are allowed to count. These will center around the probailty of 20*(probailty of rolling the face value on any given role)"
   ]
  },
  {
   "cell_type": "markdown",
   "metadata": {},
   "source": [
    "## Problem 9\n",
    "\n",
    "Suppose that you have a bag with 3 coins. One of them is a fair coin, but the others are biased trick coins. When flipped, the three coins come up heads with probability $\\frac{1}{2}$, $\\frac{2}{3}$, and $\\frac{1}{5}$, respectively.\n",
    "\n",
    "Consider the experiment where you pick one coin at random and flip it three times. Let $H_i$ be the event that the coin comes up heads on flip $i$. What is the probability of the outcome $H_1\\cap H_2\\cap \\overline{H_3}$?"
   ]
  },
  {
   "cell_type": "code",
   "execution_count": 232,
   "metadata": {},
   "outputs": [
    {
     "data": {
      "text/plain": [
       "0.10333"
      ]
     },
     "execution_count": 232,
     "metadata": {},
     "output_type": "execute_result"
    }
   ],
   "source": [
    "#9.\n",
    "\n",
    "\n",
    "\n",
    "coins = ['F','NF1','NF2']\n",
    "num_Sims = 100000\n",
    "event = 0\n",
    "for i in range(num_Sims):\n",
    "    choice = npr.randint(0,3)\n",
    "\n",
    "    coin_choice = coins[choice]\n",
    "\n",
    "    if choin_choice == 'F':\n",
    "        S = ['H','NH']\n",
    "\n",
    "    if coin_choice == 'NF1':\n",
    "        S = ['H','NH','H']\n",
    "\n",
    "    if coin_choice == 'NF2':\n",
    "        S = ['H','NH','NH','NH','NH']\n",
    "\n",
    "    value = random.choices(S,k=3)\n",
    "    if value ==['H','H','NH']:\n",
    "        event = event+1\n",
    "    \n",
    "\n",
    "event/num_Sims\n"
   ]
  },
  {
   "cell_type": "markdown",
   "metadata": {},
   "source": [
    "## Problem 10\n",
    "\n",
    "In what follows, apply a significance value $\\alpha = 0.01$. That is, there must be less than a 1% probability of seeing such an extreme value under the null hypothesis before we are willing to conclude that the null hypothesis is not reasonable.\n",
    "\n",
    "* If a 6-sided die is rolled 10 times and all the values are <=4, should we feel confident that the die is not fair (i.e., reject the null hypothesis with $p=0.01$)?\n",
    "\n",
    "* Conduct the above simulation using a python function.\n"
   ]
  },
  {
   "cell_type": "code",
   "execution_count": 31,
   "metadata": {},
   "outputs": [
    {
     "name": "stdout",
     "output_type": "stream",
     "text": [
      "0.01707\n"
     ]
    }
   ],
   "source": [
    "num_Sims = 100000\n",
    "event = 0\n",
    "count = 0\n",
    "\n",
    "for i in range(num_Sims):\n",
    "    dice = npr.randint(1,7,size=(1,10))\n",
    "    count = np.sum(dice<=4,axis=1)\n",
    "    if count == 10:\n",
    "        event = event+1\n",
    "\n",
    "print(event/num_Sims)\n",
    "\n",
    "\n",
    "# Our alpha value ia 0.01712 which is larger then the signficance value thus we can not reject the null hypothesis."
   ]
  },
  {
   "cell_type": "markdown",
   "metadata": {},
   "source": [
    "## Problem 11\n",
    "\n",
    "Consider the experiment where you pick 3 cards at random from a deck of 52 playing cards (13 cards per suit) **without replacement**, i.e., at each card selection you will not put it back in the deck, and so the number of possible outcomes will change for each new draw.\n",
    "\n",
    "Let $D_i$ denote the event the card is diamonds in the $i$th draw.\n",
    "\n",
    "Build a simulation to compute the following probabilities:\n",
    "\n",
    "1. $P(D_1)$\n",
    "\n",
    "2. $P(D_1 \\cap D_2)$\n",
    "\n",
    "3. $P(D_1 \\cap D_2 \\cap \\overline{D_3})$\n",
    "\n",
    "4. $P(D_3 \\cup D_2|D_1 )$\n",
    "\n",
    "5. $P(D_3|D_1\\cap D_2)$\n",
    "\n",
    "*Note: to sample from a set **without replacement**, consider use the function ```numpy.random.choice``` by controling the parameter ```replace```*."
   ]
  },
  {
   "cell_type": "code",
   "execution_count": 82,
   "metadata": {},
   "outputs": [
    {
     "name": "stdout",
     "output_type": "stream",
     "text": [
      "The Probabilty of drawing a card on the first draw is: 0.25061\n"
     ]
    }
   ],
   "source": [
    "#Problem 11\n",
    "#1.\n",
    "num_Sims = 100000\n",
    "event = 0\n",
    "\n",
    "Deck = ['H','C','D','S']\n",
    "for i in range(num_Sims):\n",
    "    choice = npr.randint(0,4,)\n",
    "    if Deck[choice] == 'D':\n",
    "        event = event+1\n",
    "print('The Probabilty of drawing a card on the first draw is:', event/num_Sims)    \n",
    "#Easy Simulation to repersent just flipping the first card over\n"
   ]
  },
  {
   "cell_type": "code",
   "execution_count": 56,
   "metadata": {},
   "outputs": [
    {
     "name": "stdout",
     "output_type": "stream",
     "text": [
      "0.05834\n"
     ]
    }
   ],
   "source": [
    "#2.\n",
    "num_Sims = 100000\n",
    "suits = ['H', 'D', 'S', 'C']\n",
    "deck = []\n",
    "event = 0\n",
    "for i in range(13):\n",
    "    for suit in suits:\n",
    "        deck.append(suit) \n",
    "random.shuffle(deck)    \n",
    "\n",
    "for i in range(num_Sims):\n",
    "    choice = np.random.choice(deck,3,replace=False)\n",
    "    if choice[0] == 'D' and choice[1] == 'D':\n",
    "        event = event +1\n",
    "print('The esitmated probailty of drawing a dimoand on the first and second draw is:', event/num_Sims)"
   ]
  },
  {
   "cell_type": "code",
   "execution_count": 60,
   "metadata": {},
   "outputs": [
    {
     "name": "stdout",
     "output_type": "stream",
     "text": [
      "0.046\n"
     ]
    }
   ],
   "source": [
    "#3.\n",
    "\n",
    "num_Sims = 100000\n",
    "suits = ['H', 'D', 'S', 'C']\n",
    "deck = []\n",
    "event = 0\n",
    "for i in range(13):\n",
    "    for suit in suits:\n",
    "        deck.append(suit) \n",
    "random.shuffle(deck)    \n",
    "\n",
    "for i in range(num_Sims):\n",
    "    choice = np.random.choice(deck,3,replace=False)\n",
    "    if choice[0] == 'D' and choice[1] == 'D' and choice[2] != 'D':\n",
    "        event = event +1\n",
    "        \n",
    "print('The esitmated probailty of drawing a Dimoand on the first and second draw and not drawing a dimond on the thrid draw is:',event/num_Sims)"
   ]
  },
  {
   "cell_type": "code",
   "execution_count": 68,
   "metadata": {},
   "outputs": [
    {
     "name": "stdout",
     "output_type": "stream",
     "text": [
      "0.104687\n"
     ]
    }
   ],
   "source": [
    "#4\n",
    "num_Sims = 1000000\n",
    "suits = ['H', 'D', 'S', 'C']\n",
    "deck = []\n",
    "event = 0\n",
    "for i in range(13):\n",
    "    for suit in suits:\n",
    "        deck.append(suit) \n",
    "random.shuffle(deck)    \n",
    "\n",
    "for i in range(num_Sims):\n",
    "    choice = np.random.choice(deck,3,replace=False)\n",
    "    if choice[0] == 'D':\n",
    "        if choice[1] == 'D' or choice[2] == 'D':\n",
    "            event = event+1\n",
    "        \n",
    "        \n",
    "print('The esitmated probailty of drawing a Dimoand on the second or thrid draw given you drew a dimaond on the first draw is:' event/num_Sims)"
   ]
  },
  {
   "cell_type": "code",
   "execution_count": 78,
   "metadata": {},
   "outputs": [
    {
     "name": "stdout",
     "output_type": "stream",
     "text": [
      "The esitmated probailty of drawing a Dimoand on the thrid draw given you drew a dimaond on the first or second draw is: 0.012933\n"
     ]
    }
   ],
   "source": [
    "#4\n",
    "num_Sims = 1000000\n",
    "suits = ['H', 'D', 'S', 'C']\n",
    "deck = []\n",
    "event = 0\n",
    "for i in range(13):\n",
    "    for suit in suits:\n",
    "        deck.append(suit) \n",
    "random.shuffle(deck)    \n",
    "\n",
    "for i in range(num_Sims):\n",
    "    choice = np.random.choice(deck,3,replace=False)\n",
    "    if choice[0] == 'D' and choice[1] == 'D':\n",
    "        if choice[2] == 'D':\n",
    "            event = event+1\n",
    "        \n",
    "        \n",
    "print('The esitmated probailty of drawing a Dimoand on the thrid draw given you drew a dimaond on the first or second draw is:', event/num_Sims)"
   ]
  },
  {
   "cell_type": "markdown",
   "metadata": {},
   "source": [
    "## Problem 12\n",
    "\n",
    "Suppose that you have 6 coins: 2 fair coins and 4 unfair coins. When flipped, the coins flip heads with probability 0.5, 0.5, 0.8, 0.2, 0.1 and 0.3, respectively. Consider the experiment where you choose a coin at random and flip it for three times. Let $E$ be the event that 3 heads were observed. Compute $P(\\text{fair coin}|E)$.\n",
    "\n",
    "*Note: to encode specific probabilily of flipping heads, you may consider using the function ```numpy.random.choice``` by controlling the parameter ```p```.*"
   ]
  },
  {
   "cell_type": "code",
   "execution_count": 131,
   "metadata": {},
   "outputs": [
    {
     "name": "stdout",
     "output_type": "stream",
     "text": [
      "The probailty you had a fair coin if you got three heads in a row is: 0.0417\n"
     ]
    }
   ],
   "source": [
    "\n",
    "Coin = ['F','F','NF1','NF2','NF3','NF4']\n",
    "faces = [1,0]\n",
    "event = 0\n",
    "num_Sims = 10000\n",
    "\n",
    "for i in range(num_Sims):\n",
    "    coin_Choice = np.random.choice(Coin,1,replace=False)\n",
    "    if coin_Choice == 'F':\n",
    "        prob_Head = 0.5\n",
    "    if coin_Choice == 'NF1':\n",
    "        prob_Head = 0.8\n",
    "    if coin_Choice == 'NF2':\n",
    "        prob_Head = 0.2\n",
    "    if coin_Choice == 'NF3':\n",
    "        prob_Head = 0.1\n",
    "    if coin_Choice == 'NF3':\n",
    "        prob_Head = 0.3\n",
    "    head_Tail =np.random.choice(faces,3,replace=True,p = [prob_Head,1-prob_Head])\n",
    "\n",
    "    if all(head_Tail):\n",
    "        if coin_Choice == 'F':\n",
    "            event = event+1\n",
    "        \n",
    "print('The probailty you had a fair coin if you got three heads in a row is:', event/num_Sims)\n",
    "\n",
    "\n",
    "\n",
    "\n",
    "\n",
    "\n"
   ]
  },
  {
   "cell_type": "markdown",
   "metadata": {},
   "source": [
    "# Submission Instructions:\n",
    "\n",
    "When you are done with the exercises in this notebook, upload a PDF or your results to Canvas.  To create the PDF with your code and results, you can use the following procedure:\n",
    "\n",
    "1. Go to Kernel\n",
    "2. Click Restart and Run All\n",
    "3. Check over the notebook to make sure everything still looks right\n",
    "\n",
    "**At this point, you may be able to just choose \"Print\" from JupyterLab's File menu and then print to PDF (OS dependent). If everything is correct in the PDF version, then upload that PDF to the assignment in Canvas.**\n",
    "\n",
    "**If your PDF is missing any of your outputs, you can use the following procedure:**\n",
    "\n",
    "4. Next, click File at the top on the tool bar below Jupyter icon\n",
    "5. Click Save and Export Notebook as... and choose HTML\n",
    "6. The HTML file will either open in a new tab/window or be downloaded to your Downloads folder. Open it if it is in the Downloads folder\n",
    "7. Print the HTML file to PDF (how to do this is OS dependent). Make sure to save it to somewhere you can find it\n",
    "8. Open the PDF to make sure that everything looks right and that nothing is cut off\n",
    "9. Upload both the PDF and ipynb files to the Canvas assignment"
   ]
  },
  {
   "cell_type": "code",
   "execution_count": null,
   "metadata": {},
   "outputs": [],
   "source": []
  }
 ],
 "metadata": {
  "kernelspec": {
   "display_name": "Python 3 (ipykernel)",
   "language": "python",
   "name": "python3"
  },
  "language_info": {
   "codemirror_mode": {
    "name": "ipython",
    "version": 3
   },
   "file_extension": ".py",
   "mimetype": "text/x-python",
   "name": "python",
   "nbconvert_exporter": "python",
   "pygments_lexer": "ipython3",
   "version": "3.12.4"
  },
  "latex_envs": {
   "LaTeX_envs_menu_present": true,
   "autoclose": false,
   "autocomplete": true,
   "bibliofile": "biblio.bib",
   "cite_by": "apalike",
   "current_citInitial": 1,
   "eqLabelWithNumbers": true,
   "eqNumInitial": 1,
   "hotkeys": {
    "equation": "Ctrl-E",
    "itemize": "Ctrl-I"
   },
   "labels_anchors": false,
   "latex_user_defs": false,
   "report_style_numbering": false,
   "user_envs_cfg": false
  },
  "varInspector": {
   "cols": {
    "lenName": 16,
    "lenType": 16,
    "lenVar": 40
   },
   "kernels_config": {
    "python": {
     "delete_cmd_postfix": "",
     "delete_cmd_prefix": "del ",
     "library": "var_list.py",
     "varRefreshCmd": "print(var_dic_list())"
    },
    "r": {
     "delete_cmd_postfix": ") ",
     "delete_cmd_prefix": "rm(",
     "library": "var_list.r",
     "varRefreshCmd": "cat(var_dic_list()) "
    }
   },
   "types_to_exclude": [
    "module",
    "function",
    "builtin_function_or_method",
    "instance",
    "_Feature"
   ],
   "window_display": false
  }
 },
 "nbformat": 4,
 "nbformat_minor": 4
}
